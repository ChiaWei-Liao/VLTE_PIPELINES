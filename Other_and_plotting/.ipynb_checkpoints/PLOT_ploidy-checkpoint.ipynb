{
 "cells": [
  {
   "cell_type": "markdown",
   "metadata": {},
   "source": [
    "## Plotting ploidy of focal population clones"
   ]
  },
  {
   "cell_type": "code",
   "execution_count": 2,
   "metadata": {},
   "outputs": [
    {
     "name": "stderr",
     "output_type": "stream",
     "text": [
      "/n/home13/mjohnson/anaconda3/envs/milo_py37/lib/python3.7/site-packages/FlowCytometryTools/core/docstring.py:56: MatplotlibDeprecationWarning: \n",
      "The dedent function was deprecated in Matplotlib 3.1 and will be removed in 3.3. Use inspect.cleandoc instead.\n",
      "  doc = dedent(doc)\n",
      "/n/home13/mjohnson/anaconda3/envs/milo_py37/lib/python3.7/site-packages/FlowCytometryTools/core/docstring.py:56: MatplotlibDeprecationWarning: \n",
      "The dedent function was deprecated in Matplotlib 3.1 and will be removed in 3.3. Use inspect.cleandoc instead.\n",
      "  doc = dedent(doc)\n"
     ]
    }
   ],
   "source": [
    "from matplotlib import pyplot as pl\n",
    "import matplotlib.patches as patches\n",
    "import numpy as np\n",
    "import pandas as pd\n",
    "from glob import glob\n",
    "# this was installed like: pip install FlowCytometryTools\n",
    "import FlowCytometryTools as fct\n",
    "import seaborn as sns\n",
    "sns.set_style('white')\n",
    "%matplotlib inline\n",
    "cbs = sns.color_palette('colorblind')"
   ]
  },
  {
   "cell_type": "code",
   "execution_count": 3,
   "metadata": {},
   "outputs": [],
   "source": [
    "def get_plate_data(dir_base, rows=8, cols=12, gated=False, lsr2=False):\n",
    "    td = dict()\n",
    "    c = 1\n",
    "    for let in [chr(i+65) for i in range(rows)]:\n",
    "        for col in range(1, cols+1):\n",
    "            try:\n",
    "                well = let + str(col).zfill(2)\n",
    "                if lsr2:\n",
    "                    ending = '_' + str(c).zfill(3) + '.fcs'\n",
    "                else:\n",
    "                    ending = '.fcs'\n",
    "                if gated:\n",
    "                    fname = dir_base + let + str(col) + '_' + well + gated + ending\n",
    "                else:\n",
    "                    fname = dir_base + let + str(col) + '_' + well + ending\n",
    "                samp = fct.FCMeasurement(ID=well, datafile=fname)\n",
    "                c += 1\n",
    "                td[well] = samp\n",
    "            except FileNotFoundError:\n",
    "                print(fname, 'not found!')\n",
    "    return td\n"
   ]
  },
  {
   "cell_type": "code",
   "execution_count": 4,
   "metadata": {},
   "outputs": [],
   "source": [
    "p1 = pd.read_csv('../accessory_files/P1_Foc_B1_rearray.csv')\n",
    "rearray = {r['rearray_well'][0] + str(int(r['rearray_well'][1:])-8).zfill(2): r['plate']+r['well'] for j, r in p1[p1['Generation']==10150].iterrows()}\n",
    "p2 = pd.read_csv('../accessory_files/P2_Foc_B1_rearray.csv')\n",
    "rearray.update({r['rearray_well'][0] + str(int(r['rearray_well'][1:])-4).zfill(2): r['plate']+r['well'] for j, r in p2[p2['Generation']==10150].iterrows()})\n",
    "p3 = pd.read_csv('../accessory_files/P3_Foc_B1_rearray.csv')\n",
    "rearray.update({r['rearray_well'][0] + str(int(r['rearray_well'][1:])).zfill(2): r['plate']+r['well'] for j, r in p3[p3['Generation']==10150].iterrows()})"
   ]
  },
  {
   "cell_type": "code",
   "execution_count": 5,
   "metadata": {},
   "outputs": [
    {
     "name": "stdout",
     "output_type": "stream",
     "text": [
      "90\n"
     ]
    },
    {
     "data": {
      "text/html": [
       "<div>\n",
       "<style scoped>\n",
       "    .dataframe tbody tr th:only-of-type {\n",
       "        vertical-align: middle;\n",
       "    }\n",
       "\n",
       "    .dataframe tbody tr th {\n",
       "        vertical-align: top;\n",
       "    }\n",
       "\n",
       "    .dataframe thead th {\n",
       "        text-align: right;\n",
       "    }\n",
       "</style>\n",
       "<table border=\"1\" class=\"dataframe\">\n",
       "  <thead>\n",
       "    <tr style=\"text-align: right;\">\n",
       "      <th></th>\n",
       "      <th>platewell</th>\n",
       "      <th>FC_well</th>\n",
       "      <th>strain</th>\n",
       "      <th>plate</th>\n",
       "    </tr>\n",
       "  </thead>\n",
       "  <tbody>\n",
       "    <tr>\n",
       "      <th>13</th>\n",
       "      <td>P1B02</td>\n",
       "      <td>C02</td>\n",
       "      <td>a</td>\n",
       "      <td>P1</td>\n",
       "    </tr>\n",
       "    <tr>\n",
       "      <th>14</th>\n",
       "      <td>P1B03</td>\n",
       "      <td>F01</td>\n",
       "      <td>a</td>\n",
       "      <td>P1</td>\n",
       "    </tr>\n",
       "    <tr>\n",
       "      <th>15</th>\n",
       "      <td>P1B04</td>\n",
       "      <td>G01</td>\n",
       "      <td>a</td>\n",
       "      <td>P1</td>\n",
       "    </tr>\n",
       "  </tbody>\n",
       "</table>\n",
       "</div>"
      ],
      "text/plain": [
       "   platewell FC_well strain plate\n",
       "13     P1B02     C02      a    P1\n",
       "14     P1B03     F01      a    P1\n",
       "15     P1B04     G01      a    P1"
      ]
     },
     "execution_count": 5,
     "metadata": {},
     "output_type": "execute_result"
    }
   ],
   "source": [
    "well_info = pd.read_csv('../accessory_files/VLTE_by_well_info.csv')\n",
    "rearray_back = {rearray[i]: i for i in rearray}\n",
    "well_info['FC_well'] = well_info['platewell'].apply(lambda pw: rearray_back.get(pw, None))\n",
    "wells_use = well_info[pd.notnull(well_info['FC_well'])][['platewell', 'FC_well', 'strain', 'plate']]\n",
    "print(len(wells_use))\n",
    "wells_use.iloc[:3]"
   ]
  },
  {
   "cell_type": "code",
   "execution_count": 6,
   "metadata": {},
   "outputs": [],
   "source": [
    "clone_plates = ['FCA', 'FCB']\n",
    "datas = {cp: get_plate_data('../../Data/Ploidy/Clone_plates_10K_8_25_20/' + cp + '_B1_10K/Specimen_001_') for cp in clone_plates}"
   ]
  },
  {
   "cell_type": "code",
   "execution_count": 7,
   "metadata": {},
   "outputs": [],
   "source": [
    "redo_dat = get_plate_data('../../Data/Ploidy/FC_redos_9_3_20/Specimen_001_', cols=2)"
   ]
  },
  {
   "cell_type": "code",
   "execution_count": 8,
   "metadata": {},
   "outputs": [],
   "source": [
    "# renames to the FC well (from the redo plate well). \n",
    "# Those that were repeated as internal checks are marked as _extra here and are not plotted below\n",
    "redo_renamer = {\n",
    "    'B01': 'B01', 'B02': 'A02',\n",
    "    'C01': 'C01', 'C02': 'A03',\n",
    "    'D01': 'D01', 'D02': 'A04',\n",
    "    'E01': 'E01_extra', 'E02': 'C09',\n",
    "    'F01': 'F01_extra', 'F02': 'C09_2',\n",
    "    'G01': 'B02', 'G02': 'C11',\n",
    "    'H01': 'B04_extra', 'H02': 'C04_extra',\n",
    "}\n",
    "redo_back = {redo_renamer[i]: i for i in redo_renamer}"
   ]
  },
  {
   "cell_type": "code",
   "execution_count": 9,
   "metadata": {},
   "outputs": [],
   "source": [
    "plate2env = {'P1': r'YPD 30$\\degree$C', 'P2': r'SC 30$\\degree$C', 'P3': r'SC 37$\\degree$C'}\n",
    "strains_for_print = {'a': '$MATa$', 'diploid': 'Diploid', 'alpha': r'$MAT\\alpha$'}"
   ]
  },
  {
   "cell_type": "code",
   "execution_count": null,
   "metadata": {},
   "outputs": [],
   "source": [
    "mybins = [i*3000 for i in range(100)]\n",
    "for strain in ['a', 'alpha', 'diploid']:\n",
    "    nrows = {'a': 6, 'diploid': 6, 'alpha': 3}[strain]\n",
    "    fig, subps = pl.subplots(nrows, 6, figsize=(7.5, nrows*1), dpi=200, sharex=True, sharey=True)\n",
    "    subs = [subps[i][j] for i in range(nrows) for j in range(6)]\n",
    "    td = wells_use[wells_use['strain']==strain]\n",
    "    c = 0\n",
    "    for cp in ['FCB', 'FCA']:\n",
    "        s = 0\n",
    "        for j, row in td.iterrows():\n",
    "            well = row['FC_well']\n",
    "            sub = subs[s]\n",
    "            if well in redo_back:\n",
    "                if cp=='FCA':\n",
    "                    sub.hist(redo_dat[redo_back[well]]['FITC-A'], bins=mybins, histtype=u'step', edgecolor=cbs[3], lw=0.8, alpha=0.7, density=True, zorder=1)\n",
    "                elif well+'_2' in redo_back: # only relevant for C9, which had two clones in the redos\n",
    "                     sub.hist(redo_dat[redo_back[well+'_2']]['FITC-A'], bins=mybins, histtype=u'step', edgecolor=cbs[2], lw=0.8, alpha=0.7, density=True, zorder=1)\n",
    "            if s % 6 == 0:\n",
    "                sub.set_ylabel(plate2env[row['plate']], rotation='horizontal', ha='right')\n",
    "            s += 1\n",
    "            if len(datas[cp][well]['FITC-A']) > 1000:\n",
    "                sub.hist(datas[cp][well]['FITC-A'], bins=mybins, histtype=u'step', edgecolor=cbs[c+2], lw=0.8, alpha=0.7, density=True, zorder=1) \n",
    "            else:\n",
    "                pass # old (from when I was checking which ones I needed to redo)\n",
    "                #print(rearray[well], cp, len(datas[cp][well]['FITC-A']))\n",
    "            sub.set_xlim([0,250000])\n",
    "            sub.set_ylim([0, 0.00005])\n",
    "            sub.add_patch(patches.Rectangle((0,0),50000,1,facecolor='#DDDDDD', zorder=-1))\n",
    "            sub.set_yticks([])\n",
    "            sub.set_xticks([])\n",
    "            sub.set_title(rearray[well], fontsize=6, y=0.6, x=0.7)\n",
    "        c += 1\n",
    "    sns.despine()\n",
    "    fig.savefig('../../Output/Figs/supp_figs/ploidy/'+strain+'_clones_10K_ploidy.svg', background='transparent', bbox_inches='tight', pad_inches=0.1)"
   ]
  },
  {
   "cell_type": "code",
   "execution_count": null,
   "metadata": {},
   "outputs": [],
   "source": [
    "odd = ['P1B03', 'P1B04', 'P1B11', 'P1H11', 'P3F11']\n",
    "nrows = 15\n",
    "fig, subps = pl.subplots(nrows, 6, figsize=(7.5, 10), dpi=200, sharex=True, sharey=True)\n",
    "subs = [subps[i][j] for i in range(nrows) for j in range(6)]\n",
    "s = 0\n",
    "for strain in ['a', 'alpha', 'diploid']:\n",
    "    td = wells_use[wells_use['strain']==strain]\n",
    "    for j, row in td.iterrows():\n",
    "        sub = subs[s]\n",
    "        if s % 6 == 0:\n",
    "            sub.set_ylabel(plate2env[row['plate']]+'\\n'+strains_for_print[strain], rotation='horizontal', ha='right', va='center')\n",
    "        s += 1\n",
    "        c = 0\n",
    "        for cp in ['FCB', 'FCA']:\n",
    "            well = row['FC_well']\n",
    "            if well in redo_back:\n",
    "                if cp=='FCA':\n",
    "                    sub.hist(redo_dat[redo_back[well]]['FITC-A'], bins=mybins, histtype=u'step', edgecolor=cbs[3], lw=0.8, alpha=0.7, density=True, zorder=1)\n",
    "                elif well+'_2' in redo_back: # only relevant for C9, which had two clones in the redos\n",
    "                     sub.hist(redo_dat[redo_back[well+'_2']]['FITC-A'], bins=mybins, histtype=u'step', edgecolor=cbs[2], lw=0.8, alpha=0.7, density=True, zorder=1)\n",
    "            if len(datas[cp][well]['FITC-A']) > 1000:\n",
    "                sub.hist(datas[cp][well]['FITC-A'], bins=mybins, histtype=u'step', edgecolor=cbs[c+2], lw=0.8, alpha=0.7, density=True, zorder=1) \n",
    "            sub.set_xlim([0,250000])\n",
    "            sub.set_ylim([0, 0.00005])\n",
    "            sub.add_patch(patches.Rectangle((0,0),50000,1,facecolor='#DDDDDD', zorder=-1))\n",
    "            sub.set_yticks([])\n",
    "            sub.set_xticks([])\n",
    "            if rearray[well] in odd:\n",
    "                sub.annotate('* ' + rearray[well], fontsize=6, xy=(0.7, 0.6), xycoords='axes fraction', ha='center')\n",
    "            else:\n",
    "                sub.annotate(rearray[well], fontsize=6, xy=(0.7, 0.6), xycoords='axes fraction', ha='center')\n",
    "            c += 1\n",
    "    sns.despine()\n",
    "    fig.savefig('../../FINAL_FIGURES/supp/Fig8Supp1.pdf', background='transparent', bbox_inches='tight', pad_inches=0.1)"
   ]
  },
  {
   "cell_type": "code",
   "execution_count": null,
   "metadata": {},
   "outputs": [],
   "source": []
  }
 ],
 "metadata": {
  "kernelspec": {
   "display_name": "milo_py37",
   "language": "python",
   "name": "milo_py37"
  },
  "language_info": {
   "codemirror_mode": {
    "name": "ipython",
    "version": 3
   },
   "file_extension": ".py",
   "mimetype": "text/x-python",
   "name": "python",
   "nbconvert_exporter": "python",
   "pygments_lexer": "ipython3",
   "version": "3.7.6"
  }
 },
 "nbformat": 4,
 "nbformat_minor": 4
}
