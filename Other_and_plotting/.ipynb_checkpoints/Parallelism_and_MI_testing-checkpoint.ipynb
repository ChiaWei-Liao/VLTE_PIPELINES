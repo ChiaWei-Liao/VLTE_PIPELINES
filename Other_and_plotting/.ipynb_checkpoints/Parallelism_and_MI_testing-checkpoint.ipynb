{
 "cells": [
  {
   "cell_type": "code",
   "execution_count": 1,
   "metadata": {},
   "outputs": [],
   "source": [
    "from collections import defaultdict, Counter\n",
    "import pandas as pd\n",
    "from matplotlib import pyplot as pl\n",
    "import numpy as np\n",
    "import seaborn as sns\n",
    "from glob import glob\n",
    "import matplotlib.gridspec as gridspec\n",
    "from matplotlib.colors import ListedColormap\n",
    "from matplotlib.patches import Rectangle\n",
    "from statsmodels.stats.multitest import fdrcorrection as benjamini_hochberg\n",
    "\n",
    "%matplotlib inline\n",
    "import warnings\n",
    "warnings.filterwarnings(\"ignore\")"
   ]
  },
  {
   "cell_type": "code",
   "execution_count": 2,
   "metadata": {},
   "outputs": [],
   "source": [
    "plates = ['P1', 'P2', 'P3']\n",
    "plate2env = {'P1': 'YPD 30C', 'P2': 'SC 30C', 'P3': 'SC 37C'}\n",
    "strains = ['diploid', 'alpha', 'a']\n",
    "strains_for_print = {'a': '$MATa$', 'diploid': 'Diploid', 'alpha': r'$MAT\\alpha$'}\n",
    "color_by_strain = {'diploid': 'k', 'alpha': '#FFB000', 'a': '#648FFF'}\n",
    "seq_gens = [70, 1410, 2640, 5150, 7530, 10150]\n",
    "all_wells = sorted([i.split('/')[-1].split('_')[0] for i in glob('../../Output/WGS/combined_option/processed_well_output/*_processed.tsv')])\n",
    "wells = [w for w in all_wells if w!='P1B03'] #P1B03 excluded because it is a haploid population that diploidized\n",
    "o2g = {i[0]:i[1] for i in pd.read_csv('../accessory_files/yeast_gene_annotations.tsv', delimiter='\\t').as_matrix(['ORF', 'Gene_ORF'])}\n",
    "wellinfo = pd.read_csv('../accessory_files/VLTE_by_well_info.csv')[['plate.well', 'contam', 'strain']]\n",
    "wellinfo['plate.well'] = wellinfo['plate.well'].apply(lambda p: p[:2]+p[3:]) #reformatting to match for merge\n",
    "well2strain = {i[0]:i[1] for i in wellinfo.as_matrix(['plate.well', 'strain'])}"
   ]
  },
  {
   "cell_type": "code",
   "execution_count": 3,
   "metadata": {},
   "outputs": [],
   "source": [
    "def simpler_get_gene_hit_probs(data, pop_hits):\n",
    "    gene_hits = data.sum(axis=1)# pops w/ this gene hit, N_i\n",
    "    return np.tile(gene_hits / len(pop_hits), (len(pop_hits), 1)).T\n",
    "\n",
    "def simpler_split_probs(pop_hits, mhd, well_sets):\n",
    "    # given sets of well indices, computes hit probabilities separately for each set, \n",
    "    # then stitches them back together in order\n",
    "    well_to_probs = dict()\n",
    "    full_probs = np.zeros_like(mhd*1.1) # multiplication to force it to be a float array\n",
    "    for well_set in well_sets:\n",
    "        full_probs[:,well_set] = simpler_get_gene_hit_probs(mhd[:,well_set], pop_hits[well_set])\n",
    "    return full_probs\n"
   ]
  },
  {
   "cell_type": "markdown",
   "metadata": {},
   "source": [
    "# Mutual information"
   ]
  },
  {
   "cell_type": "code",
   "execution_count": 4,
   "metadata": {},
   "outputs": [],
   "source": [
    "def calculate_MI(hit_data, pseud_factor=1):\n",
    "    K = len(orf_names)\n",
    "    MI_by_orf_pair = np.zeros((K, K))\n",
    "    for p in plates:\n",
    "        for s in strains:\n",
    "            well_indices = [w for w in range(len(wells)) if wells[w][:2]==p and well2strain[wells[w]]==s]\n",
    "            hit_table = np.clip(hit_data[:,well_indices], 0, 1) # M_gi in Fisher\n",
    "            gene_hit_sums = np.sum(hit_table, axis=1)\n",
    "            # I use this to exclude MI information from genes with no hits in this strain / environment combination\n",
    "            mutations_possible = np.clip(np.tile(gene_hit_sums, (K, 1)).T * np.tile(gene_hit_sums, (K, 1)), 0, 1)\n",
    "            e = pseud_factor/np.sum(hit_table) # epsilon, psuedocount\n",
    "            tdat = hit_table + e # ~M_gi (M with tilde on top)\n",
    "            tdat_no_hit = (1+e-tdat)\n",
    "            jointprobs = dict()\n",
    "            independence_probs = dict()\n",
    "            Cm = len(well_indices)*(1+e)\n",
    "            Cj = len(well_indices)*((1+e)**2)\n",
    "            cross_probs = (tdat @ tdat.T) # ~M_gi * ~M_gj\n",
    "            jointprobs['both'] = cross_probs / Cj\n",
    "            i_probs = np.tile(np.diagonal(cross_probs), (K, 1)).T / Cm # P(sig_i=1)\n",
    "            j_probs = np.tile(np.diagonal(cross_probs), (K, 1)) / Cm   # P(sig_j=1)\n",
    "            jointprobs['i_only'] = (tdat_no_hit @ tdat.T) / Cj\n",
    "            jointprobs['j_only'] = (tdat @ tdat_no_hit.T) / Cj\n",
    "            jointprobs['neither'] = (tdat_no_hit @ tdat_no_hit.T) / Cj\n",
    "            independence_probs['both'] = i_probs * j_probs\n",
    "            independence_probs['i_only'] = i_probs *  (1 - j_probs)\n",
    "            independence_probs['j_only'] = (1 - i_probs) *  j_probs\n",
    "            independence_probs['neither'] = (1 - i_probs) *  (1 - j_probs)\n",
    "            for outcome in jointprobs:\n",
    "                MI_by_orf_pair += mutations_possible*np.nan_to_num(np.log2(jointprobs[outcome]/independence_probs[outcome])*jointprobs[outcome])\n",
    "    return MI_by_orf_pair\n",
    "\n",
    "def draw_data(probs):\n",
    "    draw = np.random.rand(probs.shape[0], probs.shape[1])\n",
    "    return np.where(draw<probs, 1, 0)\n",
    "\n",
    "def simulate_MI(n, probs_to_sim, pseud_factor=1):\n",
    "    # keep record of total MI and max MI for each run\n",
    "    MI_rec = []\n",
    "    for run in range(n):\n",
    "        sim = draw_data(probs_to_sim)\n",
    "        MI_mat = calculate_MI(sim, pseud_factor=pseud_factor)\n",
    "        MI_mat = MI_mat*np.tril(np.ones_like(MI_mat), k=-1) # set diag and up to zero\n",
    "        MI_rec.append([np.sum(MI_mat), np.max(MI_mat)])\n",
    "    return MI_rec, MI_mat, sim\n",
    "\n"
   ]
  },
  {
   "cell_type": "code",
   "execution_count": 5,
   "metadata": {},
   "outputs": [],
   "source": [
    "# a dataframe with hits and multiplicity for each ORF in the yeast genome\n",
    "orf_hit_df = pd.read_csv('../../Output/WGS/combined_option/gene_hit_data.tsv', delimiter='\\t')"
   ]
  },
  {
   "cell_type": "code",
   "execution_count": 6,
   "metadata": {},
   "outputs": [],
   "source": [
    "pop_hits = np.sum(np.clip(orf_hit_df[wells], 0, 1), axis=0)\n",
    "multi_hit_data = orf_hit_df[orf_hit_df['pops_hit']>=6]\n",
    "orf_names = list(multi_hit_data['ORF'])\n",
    "mh_dat = np.clip(np.array(multi_hit_data[wells]), 0, 1)"
   ]
  },
  {
   "cell_type": "code",
   "execution_count": 7,
   "metadata": {},
   "outputs": [
    {
     "name": "stdout",
     "output_type": "stream",
     "text": [
      "Data MI sum: 14637.620115585936 Data MI max: 9.058517469735039\n"
     ]
    }
   ],
   "source": [
    "# here we fit probabilities of mutations happening in each background-environment combination using the data\n",
    "model4_probs = simpler_split_probs(pop_hits, mh_dat, [[w for w in range(len(wells)) if wells[w][:2]==p and well2strain[wells[w]]==s] for p in plates for s in strains])\n",
    "# then we simulate mutations using this data, and calculate MI between multi-hit ORFs, recording the MI sum and max MI\n",
    "sim_res, sim_example, sim = simulate_MI(10000, model4_probs)\n",
    "# we calculate MI between multi-hit orfs in our data\n",
    "MI_results = calculate_MI(mh_dat)\n",
    "MI_results2 = MI_results*np.tril(np.ones_like(MI_results), k=-1) # set diag and up to zero\n",
    "print('Data MI sum:', np.sum(MI_results2), 'Data MI max:', np.max(MI_results2))"
   ]
  },
  {
   "cell_type": "code",
   "execution_count": 8,
   "metadata": {},
   "outputs": [
    {
     "name": "stdout",
     "output_type": "stream",
     "text": [
      "MI_tot P = 0.0287\n"
     ]
    },
    {
     "data": {
      "image/png": "[encoded data removed]",
      "text/plain": [
       "<Figure size 900x600 with 1 Axes>"
      ]
     },
     "metadata": {
      "needs_background": "light"
     },
     "output_type": "display_data"
    }
   ],
   "source": [
    "f, sub = pl.subplots(1, 1, figsize=(3, 2), dpi=300)\n",
    "sub.hist([s[0] for s in sim_res], bins=25, facecolor='#777777')\n",
    "sub.annotate('Data\\n$MI_{tot}$', xy=(np.sum(MI_results2), 0), xytext=(np.sum(MI_results2), 1000), xycoords=\"data\", ha='center', annotation_clip=False, arrowprops=dict(arrowstyle='->', lw=1), fontsize=9)\n",
    "print('MI_tot P =', len([s[1] for s in sim_res if s[0]>np.sum(MI_results2)])/len(sim_res))\n",
    "sub.set_ylabel('No. simulations')\n",
    "sub.set_xlabel('$MI_{tot}$')\n",
    "sns.despine()\n",
    "\n",
    "f.savefig('../../Output/Figs/supp_figs/MI.png', background='transparent', bbox_inches='tight', pad_inches=0.1)\n",
    "f.savefig('../../Output/Figs/supp_figs/MI.svg', background='transparent', bbox_inches='tight', pad_inches=0.1)"
   ]
  },
  {
   "cell_type": "code",
   "execution_count": 9,
   "metadata": {},
   "outputs": [
    {
     "name": "stdout",
     "output_type": "stream",
     "text": [
      "MI_tot P = 0.0287\n",
      "MI_max P = 0.8083\n"
     ]
    },
    {
     "data": {
      "image/png": "[encoded data removed]",
      "text/plain": [
       "<Figure size 1800x600 with 2 Axes>"
      ]
     },
     "metadata": {
      "needs_background": "light"
     },
     "output_type": "display_data"
    }
   ],
   "source": [
    "f, subs = pl.subplots(1, 2, figsize=(6, 2), dpi=300)\n",
    "pl.subplots_adjust(wspace=0.8)\n",
    "subs[0].hist([s[0] for s in sim_res], bins=25, facecolor='#777777')\n",
    "subs[0].annotate('Data\\n$MI_{tot}$', xy=(np.sum(MI_results2), 0), xytext=(np.sum(MI_results2), 1000), xycoords=\"data\", ha='center', annotation_clip=False, arrowprops=dict(arrowstyle='->', lw=1), fontsize=9)\n",
    "print('MI_tot P =', len([s[1] for s in sim_res if s[0]>np.sum(MI_results2)])/len(sim_res))\n",
    "subs[1].hist([s[1] for s in sim_res], facecolor='#777777')\n",
    "subs[1].annotate('Data\\n$MI_{max}$', xy=(np.max(MI_results2), 0), xytext=(np.max(MI_results2), 3900), xycoords=\"data\", ha='center', annotation_clip=False, arrowprops=dict(arrowstyle='->', lw=1), fontsize=9)\n",
    "print('MI_max P =', len([s[1] for s in sim_res if s[1]>np.max(MI_results2)])/len(sim_res))\n",
    "subs[0].set_ylabel('No. simulations')\n",
    "subs[0].set_xlabel('$MI_{tot}$')\n",
    "subs[1].set_ylabel('No. simulations')\n",
    "subs[1].set_xlabel('$MI_{max}$')\n",
    "subs[0].annotate('A', xy=(-0.5, 1.1), xycoords=\"axes fraction\", ha='right', va='center', fontsize=12)\n",
    "subs[1].annotate('B', xy=(-0.5, 1.1), xycoords=\"axes fraction\", ha='right', va='center', fontsize=12)\n",
    "sns.despine()\n",
    "\n",
    "f.savefig('../../Output/Figs/supp_figs/MI_w_max.png', background='transparent', bbox_inches='tight', pad_inches=0.1)"
   ]
  },
  {
   "cell_type": "markdown",
   "metadata": {},
   "source": [
    "# Showing that this isn't wildly dependent on the choice of epsilon, as in Fisher (though we are close to the 0.05 significance threshold here)"
   ]
  },
  {
   "cell_type": "code",
   "execution_count": 10,
   "metadata": {},
   "outputs": [
    {
     "name": "stdout",
     "output_type": "stream",
     "text": [
      "1.0\n"
     ]
    },
    {
     "ename": "KeyboardInterrupt",
     "evalue": "",
     "output_type": "error",
     "traceback": [
      "\u001b[0;31m---------------------------------------------------------------------------\u001b[0m",
      "\u001b[0;31mKeyboardInterrupt\u001b[0m                         Traceback (most recent call last)",
      "\u001b[0;32m<ipython-input-10-37038d5df49d>\u001b[0m in \u001b[0;36m<module>\u001b[0;34m\u001b[0m\n\u001b[1;32m      5\u001b[0m     \u001b[0;32mif\u001b[0m \u001b[0mpseud\u001b[0m \u001b[0;34m%\u001b[0m \u001b[0;36m1\u001b[0m \u001b[0;34m==\u001b[0m \u001b[0;36m0\u001b[0m\u001b[0;34m:\u001b[0m\u001b[0;34m\u001b[0m\u001b[0;34m\u001b[0m\u001b[0m\n\u001b[1;32m      6\u001b[0m         \u001b[0mprint\u001b[0m\u001b[0;34m(\u001b[0m\u001b[0mpseud\u001b[0m\u001b[0;34m)\u001b[0m\u001b[0;34m\u001b[0m\u001b[0;34m\u001b[0m\u001b[0m\n\u001b[0;32m----> 7\u001b[0;31m     \u001b[0msims\u001b[0m\u001b[0;34m[\u001b[0m\u001b[0mpseud\u001b[0m\u001b[0;34m]\u001b[0m \u001b[0;34m=\u001b[0m \u001b[0msimulate_MI\u001b[0m\u001b[0;34m(\u001b[0m\u001b[0;36m1000\u001b[0m\u001b[0;34m,\u001b[0m \u001b[0mmodel4_probs\u001b[0m\u001b[0;34m,\u001b[0m \u001b[0mpseud_factor\u001b[0m\u001b[0;34m=\u001b[0m\u001b[0mpseud\u001b[0m\u001b[0;34m)\u001b[0m\u001b[0;34m\u001b[0m\u001b[0;34m\u001b[0m\u001b[0m\n\u001b[0m\u001b[1;32m      8\u001b[0m     \u001b[0mdatas\u001b[0m\u001b[0;34m[\u001b[0m\u001b[0mpseud\u001b[0m\u001b[0;34m]\u001b[0m \u001b[0;34m=\u001b[0m \u001b[0mcalculate_MI\u001b[0m\u001b[0;34m(\u001b[0m\u001b[0mmh_dat\u001b[0m\u001b[0;34m,\u001b[0m \u001b[0mpseud_factor\u001b[0m\u001b[0;34m=\u001b[0m\u001b[0mpseud\u001b[0m\u001b[0;34m)\u001b[0m\u001b[0;34m*\u001b[0m\u001b[0mnp\u001b[0m\u001b[0;34m.\u001b[0m\u001b[0mtril\u001b[0m\u001b[0;34m(\u001b[0m\u001b[0mnp\u001b[0m\u001b[0;34m.\u001b[0m\u001b[0mones_like\u001b[0m\u001b[0;34m(\u001b[0m\u001b[0mMI_results\u001b[0m\u001b[0;34m)\u001b[0m\u001b[0;34m,\u001b[0m \u001b[0mk\u001b[0m\u001b[0;34m=\u001b[0m\u001b[0;34m-\u001b[0m\u001b[0;36m1\u001b[0m\u001b[0;34m)\u001b[0m\u001b[0;34m\u001b[0m\u001b[0;34m\u001b[0m\u001b[0m\n",
      "\u001b[0;32m<ipython-input-4-6d98f75017ec>\u001b[0m in \u001b[0;36msimulate_MI\u001b[0;34m(n, probs_to_sim, pseud_factor)\u001b[0m\n\u001b[1;32m     40\u001b[0m     \u001b[0;32mfor\u001b[0m \u001b[0mrun\u001b[0m \u001b[0;32min\u001b[0m \u001b[0mrange\u001b[0m\u001b[0;34m(\u001b[0m\u001b[0mn\u001b[0m\u001b[0;34m)\u001b[0m\u001b[0;34m:\u001b[0m\u001b[0;34m\u001b[0m\u001b[0;34m\u001b[0m\u001b[0m\n\u001b[1;32m     41\u001b[0m         \u001b[0msim\u001b[0m \u001b[0;34m=\u001b[0m \u001b[0mdraw_data\u001b[0m\u001b[0;34m(\u001b[0m\u001b[0mprobs_to_sim\u001b[0m\u001b[0;34m)\u001b[0m\u001b[0;34m\u001b[0m\u001b[0;34m\u001b[0m\u001b[0m\n\u001b[0;32m---> 42\u001b[0;31m         \u001b[0mMI_mat\u001b[0m \u001b[0;34m=\u001b[0m \u001b[0mcalculate_MI\u001b[0m\u001b[0;34m(\u001b[0m\u001b[0msim\u001b[0m\u001b[0;34m,\u001b[0m \u001b[0mpseud_factor\u001b[0m\u001b[0;34m=\u001b[0m\u001b[0mpseud_factor\u001b[0m\u001b[0;34m)\u001b[0m\u001b[0;34m\u001b[0m\u001b[0;34m\u001b[0m\u001b[0m\n\u001b[0m\u001b[1;32m     43\u001b[0m         \u001b[0mMI_mat\u001b[0m \u001b[0;34m=\u001b[0m \u001b[0mMI_mat\u001b[0m\u001b[0;34m*\u001b[0m\u001b[0mnp\u001b[0m\u001b[0;34m.\u001b[0m\u001b[0mtril\u001b[0m\u001b[0;34m(\u001b[0m\u001b[0mnp\u001b[0m\u001b[0;34m.\u001b[0m\u001b[0mones_like\u001b[0m\u001b[0;34m(\u001b[0m\u001b[0mMI_mat\u001b[0m\u001b[0;34m)\u001b[0m\u001b[0;34m,\u001b[0m \u001b[0mk\u001b[0m\u001b[0;34m=\u001b[0m\u001b[0;34m-\u001b[0m\u001b[0;36m1\u001b[0m\u001b[0;34m)\u001b[0m \u001b[0;31m# set diag and up to zero\u001b[0m\u001b[0;34m\u001b[0m\u001b[0;34m\u001b[0m\u001b[0m\n\u001b[1;32m     44\u001b[0m         \u001b[0mMI_rec\u001b[0m\u001b[0;34m.\u001b[0m\u001b[0mappend\u001b[0m\u001b[0;34m(\u001b[0m\u001b[0;34m[\u001b[0m\u001b[0mnp\u001b[0m\u001b[0;34m.\u001b[0m\u001b[0msum\u001b[0m\u001b[0;34m(\u001b[0m\u001b[0mMI_mat\u001b[0m\u001b[0;34m)\u001b[0m\u001b[0;34m,\u001b[0m \u001b[0mnp\u001b[0m\u001b[0;34m.\u001b[0m\u001b[0mmax\u001b[0m\u001b[0;34m(\u001b[0m\u001b[0mMI_mat\u001b[0m\u001b[0;34m)\u001b[0m\u001b[0;34m]\u001b[0m\u001b[0;34m)\u001b[0m\u001b[0;34m\u001b[0m\u001b[0;34m\u001b[0m\u001b[0m\n",
      "\u001b[0;32m<ipython-input-4-6d98f75017ec>\u001b[0m in \u001b[0;36mcalculate_MI\u001b[0;34m(hit_data, pseud_factor)\u001b[0m\n\u001b[1;32m     28\u001b[0m             \u001b[0mindependence_probs\u001b[0m\u001b[0;34m[\u001b[0m\u001b[0;34m'neither'\u001b[0m\u001b[0;34m]\u001b[0m \u001b[0;34m=\u001b[0m \u001b[0;34m(\u001b[0m\u001b[0;36m1\u001b[0m \u001b[0;34m-\u001b[0m \u001b[0mi_probs\u001b[0m\u001b[0;34m)\u001b[0m \u001b[0;34m*\u001b[0m  \u001b[0;34m(\u001b[0m\u001b[0;36m1\u001b[0m \u001b[0;34m-\u001b[0m \u001b[0mj_probs\u001b[0m\u001b[0;34m)\u001b[0m\u001b[0;34m\u001b[0m\u001b[0;34m\u001b[0m\u001b[0m\n\u001b[1;32m     29\u001b[0m             \u001b[0;32mfor\u001b[0m \u001b[0moutcome\u001b[0m \u001b[0;32min\u001b[0m \u001b[0mjointprobs\u001b[0m\u001b[0;34m:\u001b[0m\u001b[0;34m\u001b[0m\u001b[0;34m\u001b[0m\u001b[0m\n\u001b[0;32m---> 30\u001b[0;31m                 \u001b[0mMI_by_orf_pair\u001b[0m \u001b[0;34m+=\u001b[0m \u001b[0mmutations_possible\u001b[0m\u001b[0;34m*\u001b[0m\u001b[0mnp\u001b[0m\u001b[0;34m.\u001b[0m\u001b[0mnan_to_num\u001b[0m\u001b[0;34m(\u001b[0m\u001b[0mnp\u001b[0m\u001b[0;34m.\u001b[0m\u001b[0mlog2\u001b[0m\u001b[0;34m(\u001b[0m\u001b[0mjointprobs\u001b[0m\u001b[0;34m[\u001b[0m\u001b[0moutcome\u001b[0m\u001b[0;34m]\u001b[0m\u001b[0;34m/\u001b[0m\u001b[0mindependence_probs\u001b[0m\u001b[0;34m[\u001b[0m\u001b[0moutcome\u001b[0m\u001b[0;34m]\u001b[0m\u001b[0;34m)\u001b[0m\u001b[0;34m*\u001b[0m\u001b[0mjointprobs\u001b[0m\u001b[0;34m[\u001b[0m\u001b[0moutcome\u001b[0m\u001b[0;34m]\u001b[0m\u001b[0;34m)\u001b[0m\u001b[0;34m\u001b[0m\u001b[0;34m\u001b[0m\u001b[0m\n\u001b[0m\u001b[1;32m     31\u001b[0m     \u001b[0;32mreturn\u001b[0m \u001b[0mMI_by_orf_pair\u001b[0m\u001b[0;34m\u001b[0m\u001b[0;34m\u001b[0m\u001b[0m\n\u001b[1;32m     32\u001b[0m \u001b[0;34m\u001b[0m\u001b[0m\n",
      "\u001b[0;31mKeyboardInterrupt\u001b[0m: "
     ]
    }
   ],
   "source": [
    "sims = dict()\n",
    "datas = dict()\n",
    "possible_pseuds = [i*0.1 for i in range(1, 21)]\n",
    "for pseud in possible_pseuds:\n",
    "    if pseud % 1 == 0:\n",
    "        print(pseud)\n",
    "    sims[pseud] = simulate_MI(1000, model4_probs, pseud_factor=pseud)\n",
    "    datas[pseud] = calculate_MI(mh_dat, pseud_factor=pseud)*np.tril(np.ones_like(MI_results), k=-1)\n"
   ]
  },
  {
   "cell_type": "code",
   "execution_count": null,
   "metadata": {},
   "outputs": [],
   "source": [
    "f,subs = pl.subplots(2,1, figsize=(6,4), dpi=300)\n",
    "pl.subplots_adjust(hspace=0.5)\n",
    "ps = []\n",
    "for p in possible_pseuds:\n",
    "    all_results = sorted([np.sum(s) for s in sims[p][0]])\n",
    "    subs[0].plot([p, p], [all_results[int(len(all_results)*0.05)], all_results[-int(len(all_results)*0.05)]], c='k', zorder=-1)\n",
    "    subs[0].scatter([p], [np.mean(all_results)], c='k')\n",
    "    ps.append(len([i for i in all_results if i>=np.sum(datas[p])])/len(all_results))\n",
    "subs[0].scatter(possible_pseuds, [np.sum(datas[i]) for i in possible_pseuds], c='r', zorder=1, label='Data')\n",
    "subs[1].scatter(possible_pseuds, ps)\n",
    "subs[0].set_ylabel('$MI_{tot}$')\n",
    "subs[0].set_xlabel('$\\epsilon M$')\n",
    "subs[1].set_ylabel('P-value')\n",
    "subs[1].set_xlabel('$\\epsilon M$')\n",
    "subs[0].scatter([], [], c='k', label='Simulation\\n(90% conf. intervals)')\n",
    "subs[0].legend(frameon=False, bbox_to_anchor=(1, 0.6), fontsize=8)\n",
    "sns.despine()\n",
    "subs[0].annotate('A', xy=(-0.15, 1.1), xycoords=\"axes fraction\", ha='right', va='center', fontsize=12)\n",
    "subs[1].annotate('B', xy=(-0.15, 1.1), xycoords=\"axes fraction\", ha='right', va='center', fontsize=12)\n",
    "\n",
    "f.savefig('../../Output/Figs/supp_figs/MI_epsilon_changes.png', background='transparent', bbox_inches='tight', pad_inches=0.1)"
   ]
  },
  {
   "cell_type": "markdown",
   "metadata": {},
   "source": [
    "# Looking at the difference between a simulated MI distrib and a data one:"
   ]
  },
  {
   "cell_type": "code",
   "execution_count": null,
   "metadata": {},
   "outputs": [],
   "source": [
    "f,subs = pl.subplots(1,2, figsize=(4,2), dpi=300)\n",
    "subs[0].hist(MI_results2.flatten(), alpha=0.5, bins=[i*0.1 for i in range(100)], histtype=u'step')\n",
    "subs[0].hist(sim_example.flatten(), alpha=0.5, bins=[i*0.1 for i in range(100)], histtype=u'step')\n",
    "subs[1].hist(MI_results2.flatten(), alpha=0.5, bins=[i*0.1 for i in range(100)], histtype=u'step', label='data')\n",
    "subs[1].hist(sim_example.flatten(), alpha=0.5, bins=[i*0.1 for i in range(100)], histtype=u'step', label='sim')\n",
    "subs[1].legend(frameon=False, fontsize=9)\n",
    "subs[1].set_ylim([0, 3000])\n",
    "sns.despine()"
   ]
  },
  {
   "cell_type": "markdown",
   "metadata": {},
   "source": [
    "# Let's look at which mutations have the most MI even though it's not significant:"
   ]
  },
  {
   "cell_type": "code",
   "execution_count": null,
   "metadata": {},
   "outputs": [],
   "source": [
    "tmp = []\n",
    "for i in range(len(orf_names)):\n",
    "    for j in range(len(orf_names)):\n",
    "        if i > j:\n",
    "            tmp.append([o2g.get(orf_names[i], orf_names[i]), o2g.get(orf_names[j], orf_names[j]), MI_results2[i,j]])\n",
    "td = pd.DataFrame(tmp, columns=['ORF1', 'ORF2', 'MI'])\n",
    "td.sort_values(by='MI', ascending=False).iloc[:10]"
   ]
  },
  {
   "cell_type": "code",
   "execution_count": null,
   "metadata": {},
   "outputs": [],
   "source": [
    "for i in range(5,10):\n",
    "    print(i, len(td[td['MI']>i]), len([m for m in sim_example.flatten() if m>=i])/len(sim_example.flatten()))"
   ]
  },
  {
   "cell_type": "code",
   "execution_count": null,
   "metadata": {},
   "outputs": [],
   "source": [
    "def multinomial_sim(pop_weights, max_hits, reps=10000):\n",
    "    \"\"\"\n",
    "    weights are the weighted number of mutations in each populations\n",
    "    max hits is the maximum number of hits we want to consider\n",
    "    \"\"\"\n",
    "    sm = np.zeros((max_hits+1, len(pop_weights)+1))\n",
    "    missed_op_probs = dict()\n",
    "    for i in range(2, max_hits+1):\n",
    "        draw = np.random.multinomial(i, pvals=pop_weights, size=reps)\n",
    "        pops_hit = np.sum(np.clip(draw, 0, 1), axis=1)\n",
    "        for ph in pops_hit:\n",
    "            sm[i][ph] += 1\n",
    "    \n",
    "    smn = []\n",
    "    for row in sm:\n",
    "        smn.append(row/np.nansum(row))\n",
    "    smn = np.nan_to_num(smn, nan=0)\n",
    "    \n",
    "    return sm, smn\n",
    "\n",
    "def sim_missed_ops(genes_hit_mat, pop_weights, reps=10000):\n",
    "    \"\"\"\n",
    "    weights are the weighted number of mutations in each populations\n",
    "    max hits is the maximum number of hits we want to consider\n",
    "    \"\"\"\n",
    "    no_hits = np.sum(genes_hit_mat, axis=1)\n",
    "    results = []\n",
    "    for i in no_hits:\n",
    "        draw = np.random.multinomial(i, pvals=pop_weights, size=reps)\n",
    "        pops_hit = np.sum(np.clip(draw, 0, 1), axis=1)\n",
    "        redundant_mutations = i-pops_hit\n",
    "        missed_ops = redundant_mutations*np.sum(np.clip(draw, 0, 1)*np.broadcast_to(pop_weights, (reps, pop_weights.shape[0])), axis=1)\n",
    "        results.append(missed_ops)\n",
    "    \n",
    "    return np.sum(np.array(results), axis=0)\n",
    "\n",
    "def get_gene_hit_dispersion_matrix(genes_hit_mat, pop_weights):\n",
    "    \"\"\"\n",
    "    input: matrix with genes as rows, wells as columns, w the # times each gene is hit in each pop\n",
    "    output: matrix with no. of mutations as rows and no. unique pops hit as columns, and the same matrix where rows sum to 1\n",
    "    also outputs missed opportunities for each gene, defined as the probability of a random mutation hitting a population without this mutation (multinomial)\n",
    "    multiplied by the number of redundant mutations (e.g. 5 mutations in only two populations = 3 redundant mutations)\n",
    "    \"\"\"\n",
    "    no_hits = np.sum(genes_hit_mat, axis=1)\n",
    "    pops_hit = np.sum(np.clip(genes_hit_mat, 0, 1), axis=1)\n",
    "    redundant_mutations = no_hits-pops_hit\n",
    "    prob_of_hitting_unhit_pop = np.sum(np.clip(genes_hit_mat, 0, 1)*np.broadcast_to(pop_weights, (genes_hit_mat.shape[0], pop_weights.shape[0])), axis=1)\n",
    "    missed_ops = redundant_mutations*prob_of_hitting_unhit_pop\n",
    "    bm = np.zeros((np.max(no_hits)+1, genes_hit_mat.shape[1]+1))\n",
    "    for i in range(len(no_hits)):\n",
    "        bm[no_hits[i]][pops_hit[i]] += 1\n",
    "\n",
    "    bmn = []\n",
    "    for row in bm:\n",
    "        bmn.append(row/np.nansum(row))\n",
    "    bmn = np.nan_to_num(bmn, nan=0)\n",
    "    \n",
    "    return bm, bmn, missed_ops\n",
    "    \n",
    "f = pl.figure(figsize=(7.25, 12), dpi=300)\n",
    "pl.subplots_adjust(wspace=0.4, hspace=0.4)\n",
    "gs0 = gridspec.GridSpec(9,1)\n",
    "gses = [gridspec.GridSpecFromSubplotSpec(3, 3, subplot_spec=gs0[:4,:]),gridspec.GridSpecFromSubplotSpec(3, 3, subplot_spec=gs0[5:,:])]\n",
    "suffixes = ['', '_present']\n",
    "lets = ['A', 'B']\n",
    "cbar_ax = [f.add_axes([.99, .6, .015, .2]), f.add_axes([.99, .2, .015, .2])]\n",
    "for g in range(2):\n",
    "    cbar_ax[g].set_title('Excess\\nProbability', fontsize=11)\n",
    "    subps = [[pl.Subplot(f, gses[g][i, j]) for j in range(3)] for i in range(3)]\n",
    "    for p in range(3):\n",
    "        plate = plates[p]\n",
    "        for s in range(3):\n",
    "            sub = subps[s][p]\n",
    "            f.add_subplot(sub)\n",
    "            strain = strains[s]\n",
    "            use_wells = [w for w in wells if w[:2]==plate and well2strain[w]==strain]\n",
    "            mutation_mat = np.array(orf_hit_df[[w+suffixes[g] for w in use_wells]])\n",
    "            pop_weights = np.sum(mutation_mat, axis=0) / np.sum(mutation_mat)\n",
    "            max_hits = np.max(np.sum(mutation_mat, axis=1))\n",
    "            sim_counts, sim_res2 = multinomial_sim(pop_weights, max_hits)\n",
    "            bm, bmn, missed_ops = get_gene_hit_dispersion_matrix(mutation_mat, pop_weights)\n",
    "            miss_sim = sim_missed_ops(mutation_mat, pop_weights)\n",
    "            \n",
    "            mymap = sns.diverging_palette(240, 10, s=90, as_cmap=True)\n",
    "            use = bmn-sim_res2\n",
    "            x = np.min([len(pop_weights)+1, max_hits+1])\n",
    "            y = max_hits+1\n",
    "            mask=np.zeros_like(use)\n",
    "            for i in range(y):\n",
    "                for j in range(i+1,x):\n",
    "                    mask[i,j]=1\n",
    "                    \n",
    "            #sub.add_patch(Rectangle((0, 0), x-1, y-2, fc='#DDDDDD', clip_on=False, zorder=-1))\n",
    "            if p == 2 and s == 0:\n",
    "                sns.heatmap(use[2:y,1:x], mask=mask[2:y,1:x], cmap=mymap, annot=bm[2:y,1:x], annot_kws={'size': 5.5}, fmt='g', ax=sub, center=0, vmax=1, vmin=-1, cbar_ax=cbar_ax[g], zorder=1)\n",
    "            else:\n",
    "                sns.heatmap(use[2:y,1:x], mask=mask[2:y,1:x], cmap=mymap, annot=bm[2:y,1:x], annot_kws={'size': 5.5}, fmt='g', ax=sub, center=0, vmax=1, vmin=-1, cbar=False, zorder=1)\n",
    "            sub.set_xticks([i+0.5 for i in range(x-1)])\n",
    "            sub.set_yticks([i+0.5 for i in range(y-2)])\n",
    "            sub.set_xticklabels(list(range(1,x)), fontsize=7)\n",
    "            sub.set_yticklabels(labels=list(range(2,y)), rotation='horizontal', fontsize=7)\n",
    "            sub.set_ylim([y-2, 0])\n",
    "            sub.set_xlim([0, x-1])\n",
    "                      \n",
    "            pval = len([m for m in miss_sim if m<=np.sum(missed_ops)])/len(miss_sim)\n",
    "            if pval == 0:\n",
    "                ps = '$<10^{-4}$'\n",
    "            elif pval < 0.001:\n",
    "                ps = '='+str(round(pval*10000))+'$\\cdot 10^{-4}$'\n",
    "            elif pval < 0.01:\n",
    "                ps = '='+str(round(pval*1000))+'$\\cdot 10^{-3}$'\n",
    "            else:\n",
    "                ps = '='+str(round(pval*100)/100)\n",
    "                \n",
    "            missed_op_ann = '$\\Delta m=$'+str(np.sum(missed_ops)-np.mean(miss_sim))[:4]+'\\n'+'$P$'+ ps\n",
    "            sub.annotate(missed_op_ann, xy=(1, 0.8), xycoords=\"axes fraction\", ha='right', va='center', fontsize=7)\n",
    "\n",
    "            if s == 0:\n",
    "                sub.set_title(plate2env[plate], y = 1.1, fontsize=11)\n",
    "            elif s == 2:\n",
    "                sub.set_xlabel('No. populations\\nwith mutation', fontsize=10)\n",
    "            if p == 0:\n",
    "                sub.annotate(strains_for_print[strain], xy=(-0.5, 0.5), xycoords=\"axes fraction\", ha='right', va='center', fontsize=11)\n",
    "                sub.set_ylabel('No. mutations\\nin gene', fontsize=10)\n",
    "        subps[0][0].annotate(lets[g], xy=(-0.7, 1.3), xycoords=\"axes fraction\", ha='right', va='center', fontsize=12)\n",
    "                \n",
    "sns.despine()\n",
    "\n",
    "f.savefig('../../Output/Figs/supp_figs/Dispersion_and_missed_ops.png', background='transparent', bbox_inches='tight', pad_inches=0.1)\n",
    "f.savefig('../../Output/Figs/supp_figs/Dispersion_and_missed_ops.svg', background='transparent', bbox_inches='tight', pad_inches=0.1)"
   ]
  },
  {
   "cell_type": "markdown",
   "metadata": {},
   "source": [
    "## A little bit of poking around looking at underdispersed genes, didn't find anything convincingly interesting..."
   ]
  },
  {
   "cell_type": "code",
   "execution_count": null,
   "metadata": {},
   "outputs": [],
   "source": [
    "for p in range(3):\n",
    "    plate = plates[p]\n",
    "    for s in range(3):\n",
    "        strain = strains[s]\n",
    "        use_wells = [w for w in wells if w[:2]==plate and well2strain[w]==strain]\n",
    "        orf_hit_df[plate+'_'+strain+'_Pops_present'] = np.sum(np.clip(orf_hit_df[[w+'_present' for w in use_wells]], 0, 1), axis=1)\n",
    "        orf_hit_df[plate+'_'+strain+'_present_tot'] = np.sum(orf_hit_df[[w+'_present' for w in use_wells]], axis=1)\n",
    "        orf_hit_df[plate+'_'+strain+'_present_dispersion'] = orf_hit_df[plate+'_'+strain+'_present_tot'] - orf_hit_df[plate+'_'+strain+'_Pops_present']"
   ]
  },
  {
   "cell_type": "code",
   "execution_count": null,
   "metadata": {},
   "outputs": [],
   "source": [
    "for p in range(3):\n",
    "    plate = plates[p]\n",
    "    for s in range(3):\n",
    "        strain = strains[s]\n",
    "        print(plate, strain)\n",
    "        print(orf_hit_df.sort_values(by=plate+'_'+strain+'_present_dispersion', ascending=False)[['Gene_ORF', plate+'_'+strain+'_Pops_present', plate+'_'+strain+'_present_tot']].iloc[:7])"
   ]
  },
  {
   "cell_type": "markdown",
   "metadata": {},
   "source": [
    "## Checking it holds with my other method for simulating hits"
   ]
  },
  {
   "cell_type": "code",
   "execution_count": null,
   "metadata": {},
   "outputs": [],
   "source": [
    "def get_gene_hit_probs3(data, pop_hits):\n",
    "    # Given a G x N array of G genes and N populations, \n",
    "    # with 1's where a population has a gene hit else 0's,\n",
    "    # returns a matrix of probability of fixing in each population\n",
    "    # based on the number of mutatations in each population (pop_hits, len N array)\n",
    "    # and the number of populations with a mutation in that gene\n",
    "    gene_hits = data.sum(axis=1)  + 0.1      # +0.1 pseudocount, pops w/ this gene hit, N_i\n",
    "    total_hits = np.sum(pop_hits)             # total muts, M\n",
    "    gene_hit_probs = gene_hits / total_hits   # N_i / M\n",
    "    # TOO SLOW: prob_no_hits = np.array([[(1-i)**j for j in pop_hits] for i in gene_hit_probs])\n",
    "    prob_no_hits = np.tile(1-gene_hit_probs, (len(pop_hits), 1)).T**np.tile(pop_hits, (len(gene_hits), 1)) \n",
    "    return 1-prob_no_hits\n",
    "\n",
    "def split_probs3(pop_hits, mhd, well_sets):\n",
    "    # given sets of well indices, computes hit probabilities separately for each set, \n",
    "    # then stitches them back together in order\n",
    "    well_to_probs = dict()\n",
    "    full_probs = np.zeros_like(mhd*1.1) # multiplication to force it to be a float array\n",
    "    for well_set in well_sets:\n",
    "        full_probs[:,well_set] = get_gene_hit_probs3(mhd[:,well_set], pop_hits[well_set])\n",
    "    return full_probs\n",
    "\n",
    "# here we fit probabilities of mutations happening in each background-environment combination using the data\n",
    "model4_probs3 = split_probs3(pop_hits, mh_dat, [[w for w in range(len(wells)) if wells[w][:2]==p and well2strain[wells[w]]==s] for p in plates for s in strains])\n",
    "# then we simulate mutations using this data, and calculate MI between multi-hit ORFs, recording the MI sum and max MI\n",
    "sim_res3, sim_example3, sim3 = simulate_MI(1000, model4_probs3)"
   ]
  },
  {
   "cell_type": "code",
   "execution_count": null,
   "metadata": {},
   "outputs": [],
   "source": [
    "f, sub = pl.subplots(1, 1, figsize=(3, 2), dpi=300)\n",
    "sub.hist([s[0] for s in sim_res3], bins=25, facecolor='#777777')\n",
    "sub.annotate('Data\\n$MI_{tot}$', xy=(np.sum(MI_results2), 0), xytext=(np.sum(MI_results2), 100), xycoords=\"data\", ha='center', annotation_clip=False, arrowprops=dict(arrowstyle='->', lw=1), fontsize=9)\n",
    "print('MI_tot P =', len([s[1] for s in sim_res3 if s[0]>np.sum(MI_results2)])/len(sim_res3))\n",
    "sub.set_ylabel('No. simulations')\n",
    "sub.set_xlabel('$MI_{tot}$')\n",
    "sns.despine()\n"
   ]
  },
  {
   "cell_type": "code",
   "execution_count": null,
   "metadata": {},
   "outputs": [],
   "source": []
  }
 ],
 "metadata": {
  "kernelspec": {
   "display_name": "Python 3",
   "language": "python",
   "name": "python3"
  },
  "language_info": {
   "codemirror_mode": {
    "name": "ipython",
    "version": 3
   },
   "file_extension": ".py",
   "mimetype": "text/x-python",
   "name": "python",
   "nbconvert_exporter": "python",
   "pygments_lexer": "ipython3",
   "version": "3.7.3"
  }
 },
 "nbformat": 4,
 "nbformat_minor": 4
}
