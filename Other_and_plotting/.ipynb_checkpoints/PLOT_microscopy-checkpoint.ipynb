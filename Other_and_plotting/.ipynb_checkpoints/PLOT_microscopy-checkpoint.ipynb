{
 "cells": [
  {
   "cell_type": "code",
   "execution_count": null,
   "metadata": {},
   "outputs": [],
   "source": [
    "from PIL import Image, ImageEnhance, ImageDraw, ImageFont\n",
    "from glob import glob\n",
    "import pandas as pd\n",
    "import numpy as np"
   ]
  },
  {
   "cell_type": "code",
   "execution_count": null,
   "metadata": {},
   "outputs": [],
   "source": [
    "file_info = pd.read_csv('../Data/Imaging/Image_files_to_wells_2_7_20.csv')\n",
    "file_info['platewell'] = file_info['Plate'] + '_' + file_info['Well']\n",
    "file_info.iloc[:3]"
   ]
  },
  {
   "cell_type": "code",
   "execution_count": null,
   "metadata": {},
   "outputs": [],
   "source": [
    "gen_fixer = {70: {'P1': 70, 'P2': 70, 'P3': 56, 'P4': 70},\n",
    "             550: {'P1': 560, 'P2': 560, 'P3': 448, 'P4': 560},\n",
    "             1410: {'P1': 1410, 'P2': 1410, 'P3': 1128, 'P4': 1410},\n",
    "             2640: {'P1': 2640, 'P2': 2640, 'P3': 2106, 'P4': 2640},\n",
    "             3630: {'P1': 3660, 'P2': 3660, 'P3': 2922, 'P4': 3660},\n",
    "             5150: {'P1': 5170, 'P2': 5170, 'P3': 4130, 'P4': 5170},\n",
    "             7530: {'P1': 7550, 'P2': 7560, 'P3': 6042, 'P4': 7560},\n",
    "             10150: {'P1': 10190, 'P2': 10200, 'P3': 8098, 'P4': 10200}}"
   ]
  },
  {
   "cell_type": "code",
   "execution_count": null,
   "metadata": {},
   "outputs": [],
   "source": [
    "gens = [70, 1410, 2640, 5150, 7530, 10150]\n",
    "wells_w_6_tps = file_info[file_info['Plate'].isin(['P1', 'P2', 'P3'])]\n",
    "crop_buf = 50\n",
    "crop_x = 1200\n",
    "crop_y = 930\n",
    "buf = 20\n",
    "bw = int((crop_x-crop_buf)*3+buf*7)\n",
    "bh = int((crop_y-crop_buf)/2+80)\n",
    "myfont = ImageFont.truetype('accessory_files/Avenir.ttc', 40)\n",
    "for pw in list(set(wells_w_6_tps['platewell'])):\n",
    "    print(pw)\n",
    "    td = wells_w_6_tps[wells_w_6_tps['platewell']==pw]\n",
    "    background = Image.new('RGBA',(bw, bh), (255, 255, 255, 255))\n",
    "    draw = ImageDraw.Draw(background)\n",
    "    for g in range(len(gens)):\n",
    "        gen = gens[g]\n",
    "        ttd = td[td['Generation']==gen]\n",
    "        assert(len(ttd)==1)\n",
    "        offset = (int(buf+g*((bw-buf)/6)), 60)\n",
    "        im = ImageEnhance.Contrast(Image.open('../Data/Imaging/2_7_20/'+ttd.iloc[0]['File'])).enhance(6)\n",
    "        background.paste(im.crop((crop_buf, crop_buf, crop_x, crop_y)).resize((int((crop_x-crop_buf)/2), int((crop_y-crop_buf)/2))),offset)\n",
    "        draw.text((offset[0]+20, 10),pw.replace('_', '') + ' Gen. ' + str(gen_fixer[gen][pw[:2]]), (0,0,0),font=myfont)\n",
    "    background.save('../Output/Figs/supp_figs/imaging/cropped_'+pw.replace('_', '')+'.png')\n",
    "        \n",
    "    "
   ]
  },
  {
   "cell_type": "code",
   "execution_count": null,
   "metadata": {},
   "outputs": [],
   "source": []
  }
 ],
 "metadata": {
  "kernelspec": {
   "display_name": "Python 3",
   "language": "python",
   "name": "python3"
  },
  "language_info": {
   "codemirror_mode": {
    "name": "ipython",
    "version": 3
   },
   "file_extension": ".py",
   "mimetype": "text/x-python",
   "name": "python",
   "nbconvert_exporter": "python",
   "pygments_lexer": "ipython3",
   "version": "3.7.3"
  }
 },
 "nbformat": 4,
 "nbformat_minor": 4
}
