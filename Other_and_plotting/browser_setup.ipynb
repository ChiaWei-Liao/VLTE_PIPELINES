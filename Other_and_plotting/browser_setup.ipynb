{
 "cells": [
  {
   "cell_type": "code",
   "execution_count": 8,
   "metadata": {},
   "outputs": [],
   "source": [
    "import pandas as pd\n",
    "from collections import defaultdict"
   ]
  },
  {
   "cell_type": "code",
   "execution_count": 9,
   "metadata": {},
   "outputs": [],
   "source": [
    "info = pd.read_csv('accessory_files/VLTE_by_well_info.csv').rename(columns={'plate.well': 'platewell'})\n",
    "info['platewell'] = info['platewell'].apply(lambda p: p[:2]+p[3:])"
   ]
  },
  {
   "cell_type": "code",
   "execution_count": 10,
   "metadata": {},
   "outputs": [],
   "source": [
    "plates = ['P1', 'P2', 'P3']\n",
    "fds = []\n",
    "for p in plates:\n",
    "    td = pd.read_csv('../Output/Fitness/' + p + '_freq_and_s_data.csv')\n",
    "    td['plate'] = [p]*len(td)\n",
    "    fds.append(td[['plate', 'Well'] + [i for i in td if '_s_zeroed' in i and 'R' not in i]])\n",
    "\n",
    "fit_data = pd.concat(fds)\n",
    "fit_data.columns\n",
    "fit_data['platewell'] = fit_data['plate'] + fit_data['Well']\n",
    "td = pd.read_csv('accessory_files/VLTE_by_well_info.csv')[['plate.well', 'contam', 'strain']].rename(columns={'plate.well':'platewell'})\n",
    "fit_data = fit_data.merge(td, on='platewell', how='left')"
   ]
  },
  {
   "cell_type": "code",
   "execution_count": 11,
   "metadata": {},
   "outputs": [
    {
     "name": "stderr",
     "output_type": "stream",
     "text": [
      "/n/home13/mjohnson/anaconda3/envs/milo_py37/lib/python3.7/site-packages/ipykernel_launcher.py:1: FutureWarning: Method .as_matrix will be removed in a future version. Use .values instead.\n",
      "  \"\"\"Entry point for launching an IPython kernel.\n"
     ]
    }
   ],
   "source": [
    "orf_to_gene = {i[0]:i[1] for i in pd.read_csv('accessory_files/yeast_gene_annotations.tsv', delimiter='\\t').as_matrix(['ORF', 'Gene_ORF'])}\n",
    "pop_to_genes_fixed = defaultdict(list)\n",
    "for entry in np.array(pd.read_csv('../Output/WGS/combined_option/genes_to_pops_hit.tsv', delimiter='\\t')[['Gene', 'Populations_w_fixation_at_10K']]):\n",
    "    gene = orf_to_gene.get(entry[0], str(entry[0]))\n",
    "    for pop in entry[1].split(';'):\n",
    "        pop_to_genes_fixed[pop].append(gene)\n",
    "pg = pd.DataFrame([[p, ';'.join(pop_to_genes_fixed[pop])] for p in pop_to_genes_fixed], columns=['platewell', 'genes_fixed_10K'])\n",
    "fit_data = fit_data.merge(pg, on='platewell', how='left')  \n",
    "fit_data['focal'] = pd.notnull(fit_data['genes_fixed_10K'])\n",
    "for p in plates:\n",
    "    fit_data[fit_data['plate']==p].to_csv('../Output/Browser/' + p + 'fitness_data.tsv', sep='\\t', index=False)"
   ]
  },
  {
   "cell_type": "code",
   "execution_count": 14,
   "metadata": {},
   "outputs": [],
   "source": [
    "wells = list(pg['platewell'])\n",
    "base_use_cols = ['info', 'CHROM', 'POS', 'REF', 'ALT', 'QUAL', 'SVTYPE', 'ANN_simpler', 'ANN', \n",
    "                 'af_trajectory', 'perc_of_alt', 'mutation_group', 'ORF_hit'\n",
    "                 'G70_allele_counts', 'G1410_allele_counts', 'G2640_allele_counts',\n",
    "                 'G5150_allele_counts', 'G7530_allele_counts', 'G10150_allele_counts']\n",
    "seq_gens = [70, 1410, 2640, 5150, 7530, 10150]\n",
    "for well in sorted(wells):\n",
    "    td = pd.read_csv('../Output/WGS/combined_option/processed_well_output/' + well + '_processed.tsv', delimiter='\\t')\n",
    "    td['info'] = td.apply(lambda r: str(r['CHROM']) + \" \" + str(r[\"POS\"]) + \" \" +str(r[\"REF\"]) + ' -> ' + str(r[\"ALT\"]) + \" \" + str(r[\"ANN_simpler\"]) + str(r['SVTYPE']), axis=1)\n",
    "    for gen in seq_gens:\n",
    "        if 'G'+str(gen)+'_alt_counts' in td:\n",
    "            td['G'+str(gen)+'_allele_counts'] = td.apply(lambda r: str(r['G'+str(gen)+'_ref_counts'])+','+str(r['G'+str(gen)+'_alt_counts']), axis=1)\n",
    "    svc = len(td[pd.notnull(td['SVTYPE'])])\n",
    "    #print(well, svc)\n",
    "    use_cols = [c for c in base_use_cols if c in td]\n",
    "    td[use_cols].to_csv('../Output/Browser/Allele_freqs/' + well + '.tsv', sep='\\t', index=False)\n",
    "    td[td['fixed_by_10150']][use_cols].to_csv('../Output/Browser/Allele_freqs/' + well + '_fixed.tsv', sep='\\t', index=False)"
   ]
  },
  {
   "cell_type": "code",
   "execution_count": null,
   "metadata": {},
   "outputs": [],
   "source": []
  }
 ],
 "metadata": {
  "kernelspec": {
   "display_name": "milo_py37",
   "language": "python",
   "name": "milo_py37"
  },
  "language_info": {
   "codemirror_mode": {
    "name": "ipython",
    "version": 3
   },
   "file_extension": ".py",
   "mimetype": "text/x-python",
   "name": "python",
   "nbconvert_exporter": "python",
   "pygments_lexer": "ipython3",
   "version": "3.7.6"
  }
 },
 "nbformat": 4,
 "nbformat_minor": 4
}
